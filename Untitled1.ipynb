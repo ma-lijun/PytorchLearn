{
 "cells": [
  {
   "cell_type": "code",
   "execution_count": 5,
   "id": "aad6a92d",
   "metadata": {},
   "outputs": [],
   "source": [
    "import torch"
   ]
  },
  {
   "cell_type": "code",
   "execution_count": 6,
   "id": "871415c5",
   "metadata": {},
   "outputs": [],
   "source": [
    "a = torch.rand(3,4)"
   ]
  },
  {
   "cell_type": "code",
   "execution_count": 7,
   "id": "9ebfad6d",
   "metadata": {},
   "outputs": [
    {
     "data": {
      "text/plain": [
       "tensor([[0.1020, 0.6802, 0.5267, 0.7187],\n",
       "        [0.9280, 0.0054, 0.1885, 0.6343],\n",
       "        [0.1595, 0.1838, 0.8027, 0.1741]])"
      ]
     },
     "execution_count": 7,
     "metadata": {},
     "output_type": "execute_result"
    }
   ],
   "source": [
    "a"
   ]
  },
  {
   "cell_type": "code",
   "execution_count": 9,
   "id": "131b214e",
   "metadata": {},
   "outputs": [],
   "source": [
    "f, s = torch.max(a, 1)"
   ]
  },
  {
   "cell_type": "code",
   "execution_count": 10,
   "id": "9b5b36e9",
   "metadata": {},
   "outputs": [
    {
     "data": {
      "text/plain": [
       "tensor([0.7187, 0.9280, 0.8027])"
      ]
     },
     "execution_count": 10,
     "metadata": {},
     "output_type": "execute_result"
    }
   ],
   "source": [
    "f"
   ]
  },
  {
   "cell_type": "code",
   "execution_count": 11,
   "id": "777612c4",
   "metadata": {},
   "outputs": [
    {
     "data": {
      "text/plain": [
       "tensor([3, 0, 2])"
      ]
     },
     "execution_count": 11,
     "metadata": {},
     "output_type": "execute_result"
    }
   ],
   "source": [
    "s"
   ]
  },
  {
   "cell_type": "code",
   "execution_count": 12,
   "id": "e30aa187",
   "metadata": {},
   "outputs": [],
   "source": [
    "b = torch.tensor([3,2,0])"
   ]
  },
  {
   "cell_type": "code",
   "execution_count": 13,
   "id": "ffea0cad",
   "metadata": {},
   "outputs": [
    {
     "data": {
      "text/plain": [
       "tensor([ True, False, False])"
      ]
     },
     "execution_count": 13,
     "metadata": {},
     "output_type": "execute_result"
    }
   ],
   "source": [
    "b == s"
   ]
  },
  {
   "cell_type": "code",
   "execution_count": 14,
   "id": "a7b75f9b",
   "metadata": {},
   "outputs": [
    {
     "data": {
      "text/plain": [
       "tensor([ True, False, False])"
      ]
     },
     "execution_count": 14,
     "metadata": {},
     "output_type": "execute_result"
    }
   ],
   "source": [
    "(b==s).squeeze()"
   ]
  },
  {
   "cell_type": "code",
   "execution_count": 15,
   "id": "9a3a5d47",
   "metadata": {},
   "outputs": [],
   "source": [
    "c = (b==s).squeeze()"
   ]
  },
  {
   "cell_type": "code",
   "execution_count": 16,
   "id": "73a7a8ca",
   "metadata": {},
   "outputs": [
    {
     "data": {
      "text/plain": [
       "tensor(True)"
      ]
     },
     "execution_count": 16,
     "metadata": {},
     "output_type": "execute_result"
    }
   ],
   "source": [
    "c[0]"
   ]
  },
  {
   "cell_type": "code",
   "execution_count": 17,
   "id": "fceac675",
   "metadata": {},
   "outputs": [
    {
     "data": {
      "text/plain": [
       "True"
      ]
     },
     "execution_count": 17,
     "metadata": {},
     "output_type": "execute_result"
    }
   ],
   "source": [
    "c[0].item()"
   ]
  },
  {
   "cell_type": "code",
   "execution_count": 18,
   "id": "63a2e06f",
   "metadata": {},
   "outputs": [
    {
     "data": {
      "text/plain": [
       "6"
      ]
     },
     "execution_count": 18,
     "metadata": {},
     "output_type": "execute_result"
    }
   ],
   "source": [
    "5 + c[0].item()"
   ]
  },
  {
   "cell_type": "code",
   "execution_count": null,
   "id": "5ac20b64",
   "metadata": {},
   "outputs": [],
   "source": []
  },
  {
   "cell_type": "code",
   "execution_count": null,
   "id": "b2f4c0ad",
   "metadata": {},
   "outputs": [],
   "source": []
  }
 ],
 "metadata": {
  "kernelspec": {
   "display_name": "Python 3",
   "language": "python",
   "name": "python3"
  },
  "language_info": {
   "codemirror_mode": {
    "name": "ipython",
    "version": 3
   },
   "file_extension": ".py",
   "mimetype": "text/x-python",
   "name": "python",
   "nbconvert_exporter": "python",
   "pygments_lexer": "ipython3",
   "version": "3.8.8"
  }
 },
 "nbformat": 4,
 "nbformat_minor": 5
}
