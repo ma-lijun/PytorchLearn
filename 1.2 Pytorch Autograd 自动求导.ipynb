{
 "cells": [
  {
   "cell_type": "markdown",
   "id": "ba85c5e3-ba48-4a77-ba93-d9d9823b5c3e",
   "metadata": {},
   "source": [
    "1.2 Pytorch Autograd 自动求导"
   ]
  },
  {
   "cell_type": "code",
   "execution_count": null,
   "id": "17fc380e-3621-4ded-8465-67db228ffc15",
   "metadata": {},
   "outputs": [],
   "source": []
  }
 ],
 "metadata": {
  "kernelspec": {
   "display_name": "Python 3",
   "language": "python",
   "name": "python3"
  },
  "language_info": {
   "codemirror_mode": {
    "name": "ipython",
    "version": 3
   },
   "file_extension": ".py",
   "mimetype": "text/x-python",
   "name": "python",
   "nbconvert_exporter": "python",
   "pygments_lexer": "ipython3",
   "version": "3.8.8"
  }
 },
 "nbformat": 4,
 "nbformat_minor": 5
}
