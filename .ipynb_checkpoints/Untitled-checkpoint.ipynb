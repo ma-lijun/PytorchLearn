{
 "cells": [
  {
   "cell_type": "markdown",
   "id": "ba85c5e3-ba48-4a77-ba93-d9d9823b5c3e",
   "metadata": {},
   "source": [
    "1.2 Pytorch Autograd 自动求导"
   ]
  },
  {
   "cell_type": "markdown",
   "id": "b6dcb43a-1bb2-4371-ad75-7c79de1a97d6",
   "metadata": {},
   "source": [
    "### 1. 张量"
   ]
  },
  {
   "cell_type": "markdown",
   "id": "84f5b39b-97c1-4641-ab2f-d76a1e0802f9",
   "metadata": {},
   "source": [
    "> torch.Tensor 是这个包的核心类。如果设置它的属性 .requires_grad 为True, 那么它会追踪对于该张量的所有操作。 当完成\n",
    "> 计算后可以通过调用 .backward(), 来计算所有的梯度。 这个张量的所有梯度会自动累加到 .grad 属性。要阻止一个张量被\n",
    "> 跟踪历史， 可以调用 .detach() 方法将其与计算历史分离， 并且阻止它未来的计算记录被跟踪。"
   ]
  },
  {
   "cell_type": "code",
   "execution_count": null,
   "id": "d13725f5-5634-48ed-96db-24cec49e8d32",
   "metadata": {},
   "outputs": [],
   "source": []
  },
  {
   "cell_type": "code",
   "execution_count": null,
   "id": "19bdec8c-e96b-46b1-90dc-f37d4ced9d12",
   "metadata": {},
   "outputs": [],
   "source": []
  },
  {
   "cell_type": "code",
   "execution_count": null,
   "id": "2a63f519-e693-41df-84dd-55e9c7f19837",
   "metadata": {},
   "outputs": [],
   "source": []
  }
 ],
 "metadata": {
  "kernelspec": {
   "display_name": "Python 3",
   "language": "python",
   "name": "python3"
  },
  "language_info": {
   "codemirror_mode": {
    "name": "ipython",
    "version": 3
   },
   "file_extension": ".py",
   "mimetype": "text/x-python",
   "name": "python",
   "nbconvert_exporter": "python",
   "pygments_lexer": "ipython3",
   "version": "3.8.8"
  }
 },
 "nbformat": 4,
 "nbformat_minor": 5
}
