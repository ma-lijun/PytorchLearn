{
 "cells": [
  {
   "cell_type": "markdown",
   "id": "2917fb53-38f5-4b89-bbe9-2b44d71739c2",
   "metadata": {},
   "source": [
    "## PyTorch 是什么？\n",
    "基于python 的科学计算包，服务于一下两种场景：\n",
    "\n",
    "    1. 作为numpy的替代品，可以使用GPU的强大计算能力\n",
    "    2. 提供最大的灵活性和高速的深度学习研究平台"
   ]
  },
  {
   "cell_type": "markdown",
   "id": "3eb1ce8b-a135-4523-80c1-a78c39752224",
   "metadata": {},
   "source": [
    "## 一、张量"
   ]
  },
  {
   "cell_type": "code",
   "execution_count": 1,
   "id": "61365ef6-d42c-4539-a822-253808243688",
   "metadata": {},
   "outputs": [],
   "source": [
    "import torch"
   ]
  },
  {
   "cell_type": "markdown",
   "id": "cdd8aee5-febd-4893-abdc-d35c756b7860",
   "metadata": {},
   "source": [
    "### 1.1 创建一个没有初始化的5*3 矩阵"
   ]
  },
  {
   "cell_type": "code",
   "execution_count": 2,
   "id": "3a181e25-69e8-4203-9dd7-cee1ba043ba2",
   "metadata": {},
   "outputs": [],
   "source": [
    "x = torch.empty(5, 3)"
   ]
  },
  {
   "cell_type": "code",
   "execution_count": 3,
   "id": "b6560951-5e4c-4a1d-bfa3-4f0a6af38f9d",
   "metadata": {},
   "outputs": [
    {
     "data": {
      "text/plain": [
       "tensor([[4.1327e-39, 8.9082e-39, 9.8265e-39],\n",
       "        [9.4592e-39, 1.0561e-38, 1.0653e-38],\n",
       "        [1.0469e-38, 9.5510e-39, 1.0286e-38],\n",
       "        [1.0194e-38, 9.6429e-39, 9.2755e-39],\n",
       "        [8.4490e-39, 8.7245e-39, 1.0102e-38]])"
      ]
     },
     "execution_count": 3,
     "metadata": {},
     "output_type": "execute_result"
    }
   ],
   "source": [
    "x"
   ]
  },
  {
   "cell_type": "markdown",
   "id": "e675f22c-4139-4a1f-bae8-c58f9d732c94",
   "metadata": {},
   "source": [
    "### 1.2 创建一个随机初始化的5*3矩阵"
   ]
  },
  {
   "cell_type": "code",
   "execution_count": 4,
   "id": "9b6e6571-ae89-4951-83c7-5babfa280e4d",
   "metadata": {},
   "outputs": [],
   "source": [
    "x_rand = torch.rand(5,3)"
   ]
  },
  {
   "cell_type": "code",
   "execution_count": 5,
   "id": "bc35e180-feca-4713-8d64-f8dc933b9292",
   "metadata": {},
   "outputs": [
    {
     "data": {
      "text/plain": [
       "tensor([[0.2945, 0.3110, 0.4350],\n",
       "        [0.3848, 0.5178, 0.9291],\n",
       "        [0.2742, 0.5910, 0.5477],\n",
       "        [0.7936, 0.7822, 0.8409],\n",
       "        [0.8563, 0.3490, 0.9255]])"
      ]
     },
     "execution_count": 5,
     "metadata": {},
     "output_type": "execute_result"
    }
   ],
   "source": [
    "x_rand"
   ]
  },
  {
   "cell_type": "markdown",
   "id": "f626d3fa-2b20-4230-bbb1-2c9f2a95c13e",
   "metadata": {},
   "source": [
    "### 1.3 构造一个填满0且数据类型为long的矩阵"
   ]
  },
  {
   "cell_type": "code",
   "execution_count": 6,
   "id": "95651355-5c4f-4f79-9ad2-fba4527b7ac4",
   "metadata": {},
   "outputs": [],
   "source": [
    "x_zero = torch.zeros(3,4, dtype=torch.long)"
   ]
  },
  {
   "cell_type": "code",
   "execution_count": 7,
   "id": "60707ee4-b184-4418-9cf6-5e041d51ef85",
   "metadata": {},
   "outputs": [
    {
     "data": {
      "text/plain": [
       "tensor([[0, 0, 0, 0],\n",
       "        [0, 0, 0, 0],\n",
       "        [0, 0, 0, 0]])"
      ]
     },
     "execution_count": 7,
     "metadata": {},
     "output_type": "execute_result"
    }
   ],
   "source": [
    "x_zero"
   ]
  },
  {
   "cell_type": "markdown",
   "id": "4934c576-c6a0-46bf-9020-5a0486a81148",
   "metadata": {},
   "source": [
    "### 1.4 使用python 列表直接构造矩阵"
   ]
  },
  {
   "cell_type": "code",
   "execution_count": 8,
   "id": "9daa0e00-8cce-419c-ab79-aac68217247c",
   "metadata": {},
   "outputs": [],
   "source": [
    "x_list = torch.tensor([[1,2,5],[35,5,9]])"
   ]
  },
  {
   "cell_type": "code",
   "execution_count": 9,
   "id": "ff98cf7f-82fe-408c-a6b8-65c2d298a060",
   "metadata": {},
   "outputs": [
    {
     "data": {
      "text/plain": [
       "tensor([[ 1,  2,  5],\n",
       "        [35,  5,  9]])"
      ]
     },
     "execution_count": 9,
     "metadata": {},
     "output_type": "execute_result"
    }
   ],
   "source": [
    "x_list"
   ]
  },
  {
   "cell_type": "markdown",
   "id": "29585cb0-daf8-4ff2-abc0-479c86078747",
   "metadata": {},
   "source": [
    "### 1.5 根据现有tensor 构造新 tensor "
   ]
  },
  {
   "cell_type": "code",
   "execution_count": 10,
   "id": "63df304e-29ca-4b04-872b-14b6b1eea39f",
   "metadata": {},
   "outputs": [],
   "source": [
    "x_new = x_list.new_ones(2,3)"
   ]
  },
  {
   "cell_type": "code",
   "execution_count": 11,
   "id": "f21ab6a6-1c22-4e98-b365-c6d24d05a105",
   "metadata": {},
   "outputs": [
    {
     "data": {
      "text/plain": [
       "tensor([[1, 1, 1],\n",
       "        [1, 1, 1]])"
      ]
     },
     "execution_count": 11,
     "metadata": {},
     "output_type": "execute_result"
    }
   ],
   "source": [
    "x_new"
   ]
  },
  {
   "cell_type": "code",
   "execution_count": 12,
   "id": "689f3187-a7cf-46b0-8826-6106b86f8359",
   "metadata": {},
   "outputs": [],
   "source": [
    "x_new_rand = torch.rand_like(x_list, dtype=torch.float)"
   ]
  },
  {
   "cell_type": "code",
   "execution_count": 13,
   "id": "745045b9-5215-4263-83bc-86355353f22a",
   "metadata": {},
   "outputs": [
    {
     "data": {
      "text/plain": [
       "tensor([[0.4119, 0.2924, 0.5587],\n",
       "        [0.0059, 0.4509, 0.2214]])"
      ]
     },
     "execution_count": 13,
     "metadata": {},
     "output_type": "execute_result"
    }
   ],
   "source": [
    "x_new_rand"
   ]
  },
  {
   "cell_type": "markdown",
   "id": "303faf78-2e84-4ddd-8a03-d80806f57290",
   "metadata": {},
   "source": [
    "### 1.6 获取张量形状（torch.Size 本质还是tuple， 所以支持tuple的一切操作）"
   ]
  },
  {
   "cell_type": "code",
   "execution_count": 14,
   "id": "6022b73a-348c-481e-93c5-8fdebdc9b7eb",
   "metadata": {},
   "outputs": [
    {
     "data": {
      "text/plain": [
       "torch.Size([5, 3])"
      ]
     },
     "execution_count": 14,
     "metadata": {},
     "output_type": "execute_result"
    }
   ],
   "source": [
    "x_rand.size()"
   ]
  },
  {
   "cell_type": "code",
   "execution_count": 15,
   "id": "fcc8dd8a-4f2b-404e-817a-91a537addb01",
   "metadata": {},
   "outputs": [
    {
     "data": {
      "text/plain": [
       "torch.Size([2, 3])"
      ]
     },
     "execution_count": 15,
     "metadata": {},
     "output_type": "execute_result"
    }
   ],
   "source": [
    "x_list.size()"
   ]
  },
  {
   "cell_type": "code",
   "execution_count": 16,
   "id": "7a4843f3-4269-4bca-92e1-140a3ea7dfc1",
   "metadata": {},
   "outputs": [
    {
     "data": {
      "text/plain": [
       "3"
      ]
     },
     "execution_count": 16,
     "metadata": {},
     "output_type": "execute_result"
    }
   ],
   "source": [
    "x_list.size()[1]"
   ]
  },
  {
   "cell_type": "markdown",
   "id": "0a4d1b9f-de81-4fb0-90fc-f39c19ebd4e0",
   "metadata": {},
   "source": [
    "## 二、 张量运算"
   ]
  },
  {
   "cell_type": "code",
   "execution_count": 17,
   "id": "97b47362-b78c-42c2-a775-e68d4c42759a",
   "metadata": {},
   "outputs": [],
   "source": [
    "y_rand = torch.rand(5, 3)"
   ]
  },
  {
   "cell_type": "code",
   "execution_count": 18,
   "id": "1282352c-00ec-4204-80ad-4ca9e02e718a",
   "metadata": {},
   "outputs": [
    {
     "data": {
      "text/plain": [
       "tensor([[0.7577, 0.7006, 0.2971],\n",
       "        [0.6916, 0.1776, 0.1760],\n",
       "        [0.0766, 0.4446, 0.6756],\n",
       "        [0.0939, 0.1359, 0.0139],\n",
       "        [0.7589, 0.9828, 0.8331]])"
      ]
     },
     "execution_count": 18,
     "metadata": {},
     "output_type": "execute_result"
    }
   ],
   "source": [
    "y_rand"
   ]
  },
  {
   "cell_type": "markdown",
   "id": "c4681d0f-5836-4306-91ad-127b73fe9888",
   "metadata": {},
   "source": [
    "> 加法： 形式一"
   ]
  },
  {
   "cell_type": "code",
   "execution_count": 19,
   "id": "4225332b-723f-4961-b658-6011cf454cbc",
   "metadata": {},
   "outputs": [
    {
     "data": {
      "text/plain": [
       "tensor([[1.0522, 1.0116, 0.7321],\n",
       "        [1.0765, 0.6954, 1.1051],\n",
       "        [0.3508, 1.0356, 1.2233],\n",
       "        [0.8876, 0.9181, 0.8547],\n",
       "        [1.6152, 1.3318, 1.7586]])"
      ]
     },
     "execution_count": 19,
     "metadata": {},
     "output_type": "execute_result"
    }
   ],
   "source": [
    "x_rand + y_rand"
   ]
  },
  {
   "cell_type": "markdown",
   "id": "f3d7546b-df20-4191-8a4d-23f01202e71f",
   "metadata": {},
   "source": [
    "> 加法： 形式二"
   ]
  },
  {
   "cell_type": "code",
   "execution_count": 20,
   "id": "0c22c520-f242-40a0-9020-8c6db12ebb06",
   "metadata": {},
   "outputs": [
    {
     "data": {
      "text/plain": [
       "tensor([[1.0522, 1.0116, 0.7321],\n",
       "        [1.0765, 0.6954, 1.1051],\n",
       "        [0.3508, 1.0356, 1.2233],\n",
       "        [0.8876, 0.9181, 0.8547],\n",
       "        [1.6152, 1.3318, 1.7586]])"
      ]
     },
     "execution_count": 20,
     "metadata": {},
     "output_type": "execute_result"
    }
   ],
   "source": [
    "torch.add(x_rand, y_rand)"
   ]
  },
  {
   "cell_type": "markdown",
   "id": "243b8561-0fd0-4457-b75b-a1d410b79ea0",
   "metadata": {},
   "source": [
    "> 加法： 原位/原地操作（in-place）"
   ]
  },
  {
   "cell_type": "code",
   "execution_count": 21,
   "id": "4f7de539-c275-4fd7-b174-baef33031139",
   "metadata": {},
   "outputs": [
    {
     "data": {
      "text/plain": [
       "tensor([[1.0522, 1.0116, 0.7321],\n",
       "        [1.0765, 0.6954, 1.1051],\n",
       "        [0.3508, 1.0356, 1.2233],\n",
       "        [0.8876, 0.9181, 0.8547],\n",
       "        [1.6152, 1.3318, 1.7586]])"
      ]
     },
     "execution_count": 21,
     "metadata": {},
     "output_type": "execute_result"
    }
   ],
   "source": [
    "# adds x_rand to y_rand\n",
    "y_rand.add_(x_rand)"
   ]
  },
  {
   "cell_type": "code",
   "execution_count": 22,
   "id": "f88ec341-7859-4a95-950a-4212251d8c92",
   "metadata": {},
   "outputs": [
    {
     "data": {
      "text/plain": [
       "tensor([[1.0522, 1.0116, 0.7321],\n",
       "        [1.0765, 0.6954, 1.1051],\n",
       "        [0.3508, 1.0356, 1.2233],\n",
       "        [0.8876, 0.9181, 0.8547],\n",
       "        [1.6152, 1.3318, 1.7586]])"
      ]
     },
     "execution_count": 22,
     "metadata": {},
     "output_type": "execute_result"
    }
   ],
   "source": [
    "y_rand"
   ]
  },
  {
   "cell_type": "markdown",
   "id": "3ebd6550-e38c-42dc-98e3-db6f325d7dcf",
   "metadata": {},
   "source": [
    "> 任何一个就地改变的张量操作后面都固定一个 _ 。 例如 x.copy_(y), x.t_() 将更改x。"
   ]
  },
  {
   "cell_type": "markdown",
   "id": "f74da95c-5c1b-4e29-b34e-068e17192d71",
   "metadata": {},
   "source": [
    "###  2.1 pytoch 的索引操作（与numpy一样）"
   ]
  },
  {
   "cell_type": "code",
   "execution_count": 23,
   "id": "9f35f5fe-6aa8-4392-8ed1-7b821fd09492",
   "metadata": {},
   "outputs": [
    {
     "data": {
      "text/plain": [
       "tensor([[0.2945, 0.3110, 0.4350],\n",
       "        [0.3848, 0.5178, 0.9291],\n",
       "        [0.2742, 0.5910, 0.5477],\n",
       "        [0.7936, 0.7822, 0.8409],\n",
       "        [0.8563, 0.3490, 0.9255]])"
      ]
     },
     "execution_count": 23,
     "metadata": {},
     "output_type": "execute_result"
    }
   ],
   "source": [
    "x_rand"
   ]
  },
  {
   "cell_type": "code",
   "execution_count": 24,
   "id": "5af0f2d4-1627-4270-a13a-28a30a1d2d44",
   "metadata": {},
   "outputs": [
    {
     "data": {
      "text/plain": [
       "tensor([0.3110, 0.5178, 0.5910, 0.7822, 0.3490])"
      ]
     },
     "execution_count": 24,
     "metadata": {},
     "output_type": "execute_result"
    }
   ],
   "source": [
    "x_rand[:,1]"
   ]
  },
  {
   "cell_type": "markdown",
   "id": "63b18ff8-2578-4efe-bec1-f9cad600612c",
   "metadata": {},
   "source": [
    "### 2.2 tensor 改变形状， 使用 torch.view"
   ]
  },
  {
   "cell_type": "code",
   "execution_count": 25,
   "id": "61ef5836-b981-4de2-bb4a-377dfbdc4c1b",
   "metadata": {},
   "outputs": [],
   "source": [
    "x_view = torch.rand(4,4)"
   ]
  },
  {
   "cell_type": "code",
   "execution_count": 26,
   "id": "c25f2063-31be-45d2-9af2-54c8e8aba4b9",
   "metadata": {},
   "outputs": [
    {
     "data": {
      "text/plain": [
       "tensor([[0.3482, 0.1004, 0.0265, 0.2144],\n",
       "        [0.9224, 0.6832, 0.8753, 0.1543],\n",
       "        [0.7415, 0.7799, 0.3756, 0.9045],\n",
       "        [0.3204, 0.2211, 0.5428, 0.7762]])"
      ]
     },
     "execution_count": 26,
     "metadata": {},
     "output_type": "execute_result"
    }
   ],
   "source": [
    "x_view"
   ]
  },
  {
   "cell_type": "code",
   "execution_count": 27,
   "id": "f47da8d7-9204-498e-ab87-799240208f0e",
   "metadata": {},
   "outputs": [
    {
     "data": {
      "text/plain": [
       "tensor([0.3482, 0.1004, 0.0265, 0.2144, 0.9224, 0.6832, 0.8753, 0.1543, 0.7415,\n",
       "        0.7799, 0.3756, 0.9045, 0.3204, 0.2211, 0.5428, 0.7762])"
      ]
     },
     "execution_count": 27,
     "metadata": {},
     "output_type": "execute_result"
    }
   ],
   "source": [
    "x_view.view(16)"
   ]
  },
  {
   "cell_type": "code",
   "execution_count": 28,
   "id": "f4c9bf0f-06ad-4d55-af57-bfe0a3de8f03",
   "metadata": {},
   "outputs": [
    {
     "data": {
      "text/plain": [
       "tensor([[0.3482, 0.1004],\n",
       "        [0.0265, 0.2144],\n",
       "        [0.9224, 0.6832],\n",
       "        [0.8753, 0.1543],\n",
       "        [0.7415, 0.7799],\n",
       "        [0.3756, 0.9045],\n",
       "        [0.3204, 0.2211],\n",
       "        [0.5428, 0.7762]])"
      ]
     },
     "execution_count": 28,
     "metadata": {},
     "output_type": "execute_result"
    }
   ],
   "source": [
    "x_view.view(-1, 2)"
   ]
  },
  {
   "cell_type": "code",
   "execution_count": 29,
   "id": "fcee1675-015b-4fea-93df-0fc0195106a3",
   "metadata": {},
   "outputs": [
    {
     "data": {
      "text/plain": [
       "tensor([[[0.3482, 0.1004, 0.0265, 0.2144],\n",
       "         [0.9224, 0.6832, 0.8753, 0.1543]],\n",
       "\n",
       "        [[0.7415, 0.7799, 0.3756, 0.9045],\n",
       "         [0.3204, 0.2211, 0.5428, 0.7762]]])"
      ]
     },
     "execution_count": 29,
     "metadata": {},
     "output_type": "execute_result"
    }
   ],
   "source": [
    "x_view.view(2,2,-1)"
   ]
  },
  {
   "cell_type": "code",
   "execution_count": 30,
   "id": "a1f77633-f8f8-4073-b9a3-d62ca56350a4",
   "metadata": {},
   "outputs": [
    {
     "data": {
      "text/plain": [
       "tensor([[[[0.3482, 0.1004],\n",
       "          [0.0265, 0.2144]],\n",
       "\n",
       "         [[0.9224, 0.6832],\n",
       "          [0.8753, 0.1543]]],\n",
       "\n",
       "\n",
       "        [[[0.7415, 0.7799],\n",
       "          [0.3756, 0.9045]],\n",
       "\n",
       "         [[0.3204, 0.2211],\n",
       "          [0.5428, 0.7762]]]])"
      ]
     },
     "execution_count": 30,
     "metadata": {},
     "output_type": "execute_result"
    }
   ],
   "source": [
    "x_view.view(2,2,2,-1)"
   ]
  },
  {
   "cell_type": "markdown",
   "id": "d6de8a00-d12a-4b46-bdba-09ef92fb1de4",
   "metadata": {},
   "source": [
    "### 2.3 桥接 numpy "
   ]
  },
  {
   "cell_type": "markdown",
   "id": "b1a539cd-73c7-46c8-a58f-7fa4ce1019de",
   "metadata": {},
   "source": [
    "> 将一个torch 张量转换为一个 numpy 数组是轻而易举的事情，反之亦然\n",
    "> torch 张量与 numpy 数组将共享他们的底层内存位置， 因此当一个改变时， 另外也会改变"
   ]
  },
  {
   "cell_type": "code",
   "execution_count": 31,
   "id": "b0ca668a-860a-41a3-8275-27952765be68",
   "metadata": {},
   "outputs": [],
   "source": [
    "a = torch.ones(5)"
   ]
  },
  {
   "cell_type": "code",
   "execution_count": 32,
   "id": "04998050-d9d2-405f-b7b8-7fccf49f0531",
   "metadata": {},
   "outputs": [
    {
     "data": {
      "text/plain": [
       "tensor([1., 1., 1., 1., 1.])"
      ]
     },
     "execution_count": 32,
     "metadata": {},
     "output_type": "execute_result"
    }
   ],
   "source": [
    "a"
   ]
  },
  {
   "cell_type": "code",
   "execution_count": 33,
   "id": "21268a66-ccaa-4446-a9e7-a73ef5c152a4",
   "metadata": {},
   "outputs": [],
   "source": [
    "b = a.numpy()"
   ]
  },
  {
   "cell_type": "code",
   "execution_count": 34,
   "id": "6d4176d1-b2e4-49c8-a4eb-5e03e25096b8",
   "metadata": {},
   "outputs": [
    {
     "data": {
      "text/plain": [
       "array([1., 1., 1., 1., 1.], dtype=float32)"
      ]
     },
     "execution_count": 34,
     "metadata": {},
     "output_type": "execute_result"
    }
   ],
   "source": [
    "b"
   ]
  },
  {
   "cell_type": "code",
   "execution_count": 35,
   "id": "42abd509-997e-43a6-bd40-ba2447aec77e",
   "metadata": {},
   "outputs": [
    {
     "data": {
      "text/plain": [
       "tensor([2., 2., 2., 2., 2.])"
      ]
     },
     "execution_count": 35,
     "metadata": {},
     "output_type": "execute_result"
    }
   ],
   "source": [
    "# 验证tensor与numpy公用内存\n",
    "a.add_(1)"
   ]
  },
  {
   "cell_type": "code",
   "execution_count": 36,
   "id": "3331c85c-481f-413f-b1c3-6c4358aabdd1",
   "metadata": {},
   "outputs": [
    {
     "data": {
      "text/plain": [
       "array([2., 2., 2., 2., 2.], dtype=float32)"
      ]
     },
     "execution_count": 36,
     "metadata": {},
     "output_type": "execute_result"
    }
   ],
   "source": [
    "b"
   ]
  },
  {
   "cell_type": "markdown",
   "id": "33b3a08a-ca4c-43cd-9cae-b3ae9d4bce86",
   "metadata": {},
   "source": [
    "### 2.4 将numpy 数组转换为 torch 张量"
   ]
  },
  {
   "cell_type": "code",
   "execution_count": 37,
   "id": "9ddb45dc-d6a5-4a6d-9e5d-bf34f85e26f1",
   "metadata": {},
   "outputs": [],
   "source": [
    "import numpy as np"
   ]
  },
  {
   "cell_type": "code",
   "execution_count": 38,
   "id": "eac9f93f-e1a9-4641-acb3-8577e542b444",
   "metadata": {},
   "outputs": [],
   "source": [
    "a_numpy = np.ones(5)"
   ]
  },
  {
   "cell_type": "code",
   "execution_count": 39,
   "id": "b2138575-61f7-47d8-8036-3fd8cd8657b8",
   "metadata": {},
   "outputs": [
    {
     "data": {
      "text/plain": [
       "array([1., 1., 1., 1., 1.])"
      ]
     },
     "execution_count": 39,
     "metadata": {},
     "output_type": "execute_result"
    }
   ],
   "source": [
    "a_numpy"
   ]
  },
  {
   "cell_type": "code",
   "execution_count": 40,
   "id": "8d6c836e-2bb7-4295-8b9e-4ee8d2564588",
   "metadata": {},
   "outputs": [],
   "source": [
    "b_tensor = torch.from_numpy(a_numpy)"
   ]
  },
  {
   "cell_type": "code",
   "execution_count": 41,
   "id": "ebbce88b-1a9c-4f98-ad6b-118d6dca50f1",
   "metadata": {},
   "outputs": [
    {
     "data": {
      "text/plain": [
       "tensor([1., 1., 1., 1., 1.], dtype=torch.float64)"
      ]
     },
     "execution_count": 41,
     "metadata": {},
     "output_type": "execute_result"
    }
   ],
   "source": [
    "b_tensor"
   ]
  },
  {
   "cell_type": "markdown",
   "id": "aa0875ff-7ddd-4e78-aa25-7df8ed4d7f93",
   "metadata": {},
   "source": [
    "> cup上所有张量（CharTensor除外）都支持与Numpy的相互转换。"
   ]
  },
  {
   "cell_type": "markdown",
   "id": "81087dea-55e5-412d-aa19-0cdf42a13b84",
   "metadata": {},
   "source": [
    "### 2.5 CUDA上的张量"
   ]
  },
  {
   "cell_type": "code",
   "execution_count": 42,
   "id": "6e24e1e0-0f45-44ac-9eb7-5d0079b1deb2",
   "metadata": {},
   "outputs": [],
   "source": [
    "if torch.cuda.is_available():\n",
    "    device = torch.device(\"cuda\")\n",
    "    y_cuda = torch.ones_like(x, device=device)\n",
    "    x = x.to(device)\n",
    "    z = x + y_cuda"
   ]
  },
  {
   "cell_type": "code",
   "execution_count": 43,
   "id": "a7b0dbf9-d501-4975-a590-f9a2b853044e",
   "metadata": {},
   "outputs": [
    {
     "data": {
      "text/plain": [
       "tensor([[1., 1., 1.],\n",
       "        [1., 1., 1.],\n",
       "        [1., 1., 1.],\n",
       "        [1., 1., 1.],\n",
       "        [1., 1., 1.]], device='cuda:0')"
      ]
     },
     "execution_count": 43,
     "metadata": {},
     "output_type": "execute_result"
    }
   ],
   "source": [
    "z"
   ]
  },
  {
   "cell_type": "code",
   "execution_count": 44,
   "id": "c7386157-13cf-494a-8cd0-549ec1b3cee0",
   "metadata": {},
   "outputs": [
    {
     "data": {
      "text/plain": [
       "tensor([[1., 1., 1.],\n",
       "        [1., 1., 1.],\n",
       "        [1., 1., 1.],\n",
       "        [1., 1., 1.],\n",
       "        [1., 1., 1.]], dtype=torch.float64)"
      ]
     },
     "execution_count": 44,
     "metadata": {},
     "output_type": "execute_result"
    }
   ],
   "source": [
    "z.to('cpu', torch.double)"
   ]
  },
  {
   "cell_type": "code",
   "execution_count": null,
   "id": "365288f7-8512-4bec-b11b-1e3b003be90a",
   "metadata": {},
   "outputs": [],
   "source": []
  },
  {
   "cell_type": "code",
   "execution_count": null,
   "id": "4853bec4-219c-4c4b-87c2-33616ff26337",
   "metadata": {},
   "outputs": [],
   "source": []
  },
  {
   "cell_type": "code",
   "execution_count": null,
   "id": "8b47f83e-093b-4027-9ba0-b6a1845f2b06",
   "metadata": {},
   "outputs": [],
   "source": []
  },
  {
   "cell_type": "code",
   "execution_count": null,
   "id": "d9b00a85-fccc-490e-b729-6e8d908c09c7",
   "metadata": {},
   "outputs": [],
   "source": []
  },
  {
   "cell_type": "code",
   "execution_count": null,
   "id": "817ce22b-8023-4b27-af26-845bb35cd45d",
   "metadata": {},
   "outputs": [],
   "source": []
  },
  {
   "cell_type": "code",
   "execution_count": null,
   "id": "dfe37934-8757-40e5-adb5-5f1b2ba5d0f5",
   "metadata": {},
   "outputs": [],
   "source": []
  },
  {
   "cell_type": "code",
   "execution_count": null,
   "id": "97e5a870-c545-44b7-83de-ef5460374737",
   "metadata": {},
   "outputs": [],
   "source": []
  }
 ],
 "metadata": {
  "kernelspec": {
   "display_name": "Python 3",
   "language": "python",
   "name": "python3"
  },
  "language_info": {
   "codemirror_mode": {
    "name": "ipython",
    "version": 3
   },
   "file_extension": ".py",
   "mimetype": "text/x-python",
   "name": "python",
   "nbconvert_exporter": "python",
   "pygments_lexer": "ipython3",
   "version": "3.8.8"
  }
 },
 "nbformat": 4,
 "nbformat_minor": 5
}
