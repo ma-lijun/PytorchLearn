{
 "cells": [
  {
   "cell_type": "markdown",
   "id": "ba85c5e3-ba48-4a77-ba93-d9d9823b5c3e",
   "metadata": {},
   "source": [
    "1.2 Pytorch Autograd 自动求导"
   ]
  },
  {
   "cell_type": "markdown",
   "id": "7315cbf5-7939-4d00-99e3-4e405863f3b7",
   "metadata": {},
   "source": [
    "### 1. 张量"
   ]
  },
  {
   "cell_type": "markdown",
   "id": "0acc8919-6871-4408-b21e-0a1ff2f776aa",
   "metadata": {},
   "source": [
    "> torch.Tensor 是这个包的核心类。如果设置它的属性 .requires_grad 为True, 那么它会追踪对于该张量的所有操作。 当完成\n",
    "> 计算后可以通过调用 .backward(), 来计算所有的梯度。 这个张量的所有梯度会自动累加到 .grad 属性。要阻止一个张量被\n",
    "> 跟踪历史， 可以调用 .detach() 方法将其与计算历史分离， 并且阻止它未来的计算记录被跟踪。"
   ]
  },
  {
   "cell_type": "markdown",
   "id": "3339674a-9f70-484c-9ac3-d475af5e7e80",
   "metadata": {},
   "source": [
    "> 1. 为了防止跟踪历史记录（和使用内存）， 可以将代码块包装在 with torh.no_grad(): 中。 在评估模型时特别有用， 因为模型可以能有 requires_grad = True 的可训练参数， 但是我们不需要在此过程中对他们进行梯度计算。\n",
    "> 2. 还有一个类对于autograd的实现非常重要：Function。Tensor 和 Function 互相连接生成了一个非循环图， 它编码了完整的 计算历史。\n",
    "\n",
    "> 每个张量都有一个 .grad_fn 属性， 它引用了一个创建了这个 Tensor 的 Function（除非这个张量是用户手动创建的， 即这个张量的grad_fn 是None）。如果需要计算导数， 可以在Tensor 上调用 .backward()。 \n",
    "\n",
    "> 如果 Tensor是一个标量（即它包含各一个元素的数据）, 则不需要为backward（）指定任何参数， 但是如果它有更多元素， 则需要指定一个gradient参数， 它是形状匹配的张量。"
   ]
  },
  {
   "cell_type": "code",
   "execution_count": 1,
   "id": "d59c6b9c-51a4-4f9f-9d6a-5a8ba58669d5",
   "metadata": {},
   "outputs": [],
   "source": [
    "import torch"
   ]
  },
  {
   "cell_type": "markdown",
   "id": "d9e711dd-a94c-445d-a82b-47dfc2bf1dba",
   "metadata": {},
   "source": [
    "创建一个张量 并设置 requires_grad = True 来追踪计算历史"
   ]
  },
  {
   "cell_type": "code",
   "execution_count": 2,
   "id": "9e16ccd8-baee-4ee1-802d-4695430eeb4d",
   "metadata": {},
   "outputs": [],
   "source": [
    "x = torch.ones(2, 2 , requires_grad=True)"
   ]
  },
  {
   "cell_type": "code",
   "execution_count": 3,
   "id": "fd205fae-631c-4628-bf78-0dbfc0b02acd",
   "metadata": {},
   "outputs": [
    {
     "data": {
      "text/plain": [
       "tensor([[1., 1.],\n",
       "        [1., 1.]], requires_grad=True)"
      ]
     },
     "execution_count": 3,
     "metadata": {},
     "output_type": "execute_result"
    }
   ],
   "source": [
    "x"
   ]
  },
  {
   "cell_type": "markdown",
   "id": "f9904436-c624-4dba-a344-4047d3517352",
   "metadata": {},
   "source": [
    "对张量做一次运算"
   ]
  },
  {
   "cell_type": "code",
   "execution_count": 4,
   "id": "db7b80a6-5a51-406d-a36e-1f05be355591",
   "metadata": {},
   "outputs": [],
   "source": [
    "y  = x + 2"
   ]
  },
  {
   "cell_type": "code",
   "execution_count": 5,
   "id": "fbbc71ea-cfb9-4bd5-b2c3-2b31d76f1af5",
   "metadata": {},
   "outputs": [
    {
     "data": {
      "text/plain": [
       "tensor([[3., 3.],\n",
       "        [3., 3.]], grad_fn=<AddBackward0>)"
      ]
     },
     "execution_count": 5,
     "metadata": {},
     "output_type": "execute_result"
    }
   ],
   "source": [
    "y"
   ]
  },
  {
   "cell_type": "markdown",
   "id": "6570cb10-67e8-4e53-9d93-349c4b3be134",
   "metadata": {},
   "source": [
    "y 是计算结果， 所有它有 grad_fn 属性"
   ]
  },
  {
   "cell_type": "code",
   "execution_count": 6,
   "id": "1b3c73ed-9a03-4917-9108-760050dcc7e5",
   "metadata": {},
   "outputs": [
    {
     "data": {
      "text/plain": [
       "<AddBackward0 at 0x1a39f343bb0>"
      ]
     },
     "execution_count": 6,
     "metadata": {},
     "output_type": "execute_result"
    }
   ],
   "source": [
    "y.grad_fn"
   ]
  },
  {
   "cell_type": "markdown",
   "id": "85902167-12a3-4739-93df-7c8ca16dd556",
   "metadata": {},
   "source": [
    "对 y 进行更多的操作"
   ]
  },
  {
   "cell_type": "code",
   "execution_count": 7,
   "id": "2a8330f7-3f27-43dd-b760-61751c816a60",
   "metadata": {},
   "outputs": [],
   "source": [
    "z = y * y * 3"
   ]
  },
  {
   "cell_type": "code",
   "execution_count": 8,
   "id": "20a49672-757d-4e6a-8de3-64791d680d6a",
   "metadata": {},
   "outputs": [],
   "source": [
    "out = z.mean()"
   ]
  },
  {
   "cell_type": "code",
   "execution_count": 9,
   "id": "a265f3c4-02a5-4fdb-9afb-80ff476ad89a",
   "metadata": {},
   "outputs": [
    {
     "data": {
      "text/plain": [
       "(tensor([[27., 27.],\n",
       "         [27., 27.]], grad_fn=<MulBackward0>),\n",
       " tensor(27., grad_fn=<MeanBackward0>))"
      ]
     },
     "execution_count": 9,
     "metadata": {},
     "output_type": "execute_result"
    }
   ],
   "source": [
    "z, out "
   ]
  },
  {
   "cell_type": "markdown",
   "id": "dc9f50e2-49a2-4287-9078-6f195398f8a3",
   "metadata": {},
   "source": [
    "> .requires_grad_(...) 原地改变了现有张量的 requires_grad 标志。如果没有指定的话， 默认输入的这个标志是 False。"
   ]
  },
  {
   "cell_type": "code",
   "execution_count": 10,
   "id": "8ab1affd-c22c-4f00-9c22-8214f5a0b199",
   "metadata": {},
   "outputs": [],
   "source": [
    "# 此例证明张量默认 requires_grad的属性为False， .requires_grad_(True/False)可以改变现有张量 requires_grad属性"
   ]
  },
  {
   "cell_type": "code",
   "execution_count": 11,
   "id": "28ffa17a-5c50-497f-a0d2-b221e7cdc890",
   "metadata": {},
   "outputs": [],
   "source": [
    "a = torch.rand(2, 2 )"
   ]
  },
  {
   "cell_type": "code",
   "execution_count": 12,
   "id": "03cb119b-f7db-46be-b537-2b404c984643",
   "metadata": {},
   "outputs": [],
   "source": [
    "a = ((a*3)/(a-1))"
   ]
  },
  {
   "cell_type": "code",
   "execution_count": 13,
   "id": "ed2eeded-ccc8-4450-88c4-7062174d4990",
   "metadata": {},
   "outputs": [
    {
     "data": {
      "text/plain": [
       "False"
      ]
     },
     "execution_count": 13,
     "metadata": {},
     "output_type": "execute_result"
    }
   ],
   "source": [
    "a.requires_grad"
   ]
  },
  {
   "cell_type": "code",
   "execution_count": 14,
   "id": "02cd6a06-55fc-4f88-baff-0be98f3199c3",
   "metadata": {},
   "outputs": [
    {
     "data": {
      "text/plain": [
       "tensor([[-3.6407e+02, -2.6150e+01],\n",
       "        [-2.8240e-01, -1.3064e+01]], requires_grad=True)"
      ]
     },
     "execution_count": 14,
     "metadata": {},
     "output_type": "execute_result"
    }
   ],
   "source": [
    "a.requires_grad_(True)"
   ]
  },
  {
   "cell_type": "code",
   "execution_count": 15,
   "id": "49e34856-7d1a-4b04-a5e6-e846dbb2a32d",
   "metadata": {},
   "outputs": [
    {
     "data": {
      "text/plain": [
       "True"
      ]
     },
     "execution_count": 15,
     "metadata": {},
     "output_type": "execute_result"
    }
   ],
   "source": [
    "a.requires_grad"
   ]
  },
  {
   "cell_type": "code",
   "execution_count": 16,
   "id": "f2a3dc3c-6f5e-4083-a829-a7a90ebac68c",
   "metadata": {},
   "outputs": [],
   "source": [
    "b = (a*a).sum()"
   ]
  },
  {
   "cell_type": "code",
   "execution_count": 17,
   "id": "369641e3-2def-4bc4-85f5-0aa8e1e846e3",
   "metadata": {},
   "outputs": [
    {
     "data": {
      "text/plain": [
       "<SumBackward0 at 0x1a39f360880>"
      ]
     },
     "execution_count": 17,
     "metadata": {},
     "output_type": "execute_result"
    }
   ],
   "source": [
    "b.grad_fn"
   ]
  },
  {
   "cell_type": "markdown",
   "id": "763f0973-8e3c-49ca-b252-2b15a7fa06e0",
   "metadata": {},
   "source": [
    "### 2. 梯度"
   ]
  },
  {
   "cell_type": "markdown",
   "id": "26809c97-cd68-4211-bb97-078ee1beb4b1",
   "metadata": {},
   "source": [
    "因为out 是一个标量， 所以我们可以直接进行反向传播， out.backward() 和 out.backwart(torch.tensor(1)) 等价。"
   ]
  },
  {
   "cell_type": "code",
   "execution_count": 18,
   "id": "3bee0993-84f0-4a7b-93bf-e36074b88261",
   "metadata": {},
   "outputs": [],
   "source": [
    "out.backward()"
   ]
  },
  {
   "cell_type": "markdown",
   "id": "d63a615c-91d7-4c90-bca1-e5ab0aea6a2e",
   "metadata": {},
   "source": [
    "输出导数 d(out)/dx"
   ]
  },
  {
   "cell_type": "code",
   "execution_count": 19,
   "id": "cf9a9f47-a7b6-4886-b134-bba998bb1992",
   "metadata": {},
   "outputs": [
    {
     "data": {
      "text/plain": [
       "tensor([[4.5000, 4.5000],\n",
       "        [4.5000, 4.5000]])"
      ]
     },
     "execution_count": 19,
     "metadata": {},
     "output_type": "execute_result"
    }
   ],
   "source": [
    "x.grad"
   ]
  },
  {
   "cell_type": "markdown",
   "id": "31989a4b-fff4-4ccd-af4a-dec994aeebcb",
   "metadata": {},
   "source": []
  },
  {
   "cell_type": "code",
   "execution_count": 20,
   "id": "0f2543a2-2acd-4def-852a-6df815dbc94a",
   "metadata": {},
   "outputs": [],
   "source": [
    "xx = torch.rand(3, requires_grad=True)"
   ]
  },
  {
   "cell_type": "code",
   "execution_count": 22,
   "id": "fc93442b-9be0-4e9e-b507-aef6b1563bd0",
   "metadata": {},
   "outputs": [],
   "source": [
    "yy = xx * 2 "
   ]
  },
  {
   "cell_type": "code",
   "execution_count": 23,
   "id": "9bf0b06b-9d3a-4527-a224-dc70145b84a3",
   "metadata": {},
   "outputs": [
    {
     "data": {
      "text/plain": [
       "tensor([1.1649, 1.6380, 1.5737])"
      ]
     },
     "execution_count": 23,
     "metadata": {},
     "output_type": "execute_result"
    }
   ],
   "source": [
    "yy.data"
   ]
  },
  {
   "cell_type": "code",
   "execution_count": 24,
   "id": "1994d24e-ea3a-4048-9f22-862e6862b25e",
   "metadata": {},
   "outputs": [
    {
     "data": {
      "text/plain": [
       "tensor(2.5528)"
      ]
     },
     "execution_count": 24,
     "metadata": {},
     "output_type": "execute_result"
    }
   ],
   "source": [
    "# norm 范数， 范数1 为各绝对值之和， 范数2：各数子平方和的开平方  （距离）\n",
    "yy.data.norm()"
   ]
  },
  {
   "cell_type": "code",
   "execution_count": 25,
   "id": "ad22998d-68c6-419c-8db3-1e880196d0d3",
   "metadata": {},
   "outputs": [],
   "source": [
    "while yy.data.norm() < 1000:\n",
    "    yy = yy*2"
   ]
  },
  {
   "cell_type": "code",
   "execution_count": 26,
   "id": "05770de8-a017-4f11-9ffa-87c20e2a2915",
   "metadata": {},
   "outputs": [
    {
     "data": {
      "text/plain": [
       "tensor([596.4340, 838.6796, 805.7322], grad_fn=<MulBackward0>)"
      ]
     },
     "execution_count": 26,
     "metadata": {},
     "output_type": "execute_result"
    }
   ],
   "source": [
    "yy"
   ]
  },
  {
   "cell_type": "markdown",
   "id": "45f155a2-1f62-49e4-9a2c-a5e980d661da",
   "metadata": {},
   "source": [
    "> 这种情况下， yy 不再是标量。torch.autograd 不能直接计算完整的雅克比矩阵， 但是如果我们只想要雅克比向量积， 只需要将这个向量作为参数传递给backward："
   ]
  },
  {
   "cell_type": "code",
   "execution_count": 27,
   "id": "a2b81a14-8390-4003-bc79-27c9d669832d",
   "metadata": {},
   "outputs": [],
   "source": [
    "v = torch.tensor([0.1, 1.0, 0.0001], dtype=torch.float)"
   ]
  },
  {
   "cell_type": "code",
   "execution_count": 28,
   "id": "7314eb36-ad38-4380-a1dd-d90b699ab432",
   "metadata": {},
   "outputs": [],
   "source": [
    "yy.backward(v)"
   ]
  },
  {
   "cell_type": "code",
   "execution_count": 29,
   "id": "a102d645-f1c9-44ff-8a64-4ed70d274b38",
   "metadata": {},
   "outputs": [
    {
     "data": {
      "text/plain": [
       "tensor([1.0240e+02, 1.0240e+03, 1.0240e-01])"
      ]
     },
     "execution_count": 29,
     "metadata": {},
     "output_type": "execute_result"
    }
   ],
   "source": [
    "xx.grad"
   ]
  },
  {
   "cell_type": "markdown",
   "id": "71683835-efe7-4260-a074-359d75badfd8",
   "metadata": {},
   "source": [
    "### 3. 防止跟踪历史记录， 使用 with torch.no_grad():"
   ]
  },
  {
   "cell_type": "code",
   "execution_count": 31,
   "id": "79395285-6d73-4c5c-93ed-5b4105bfaaf1",
   "metadata": {},
   "outputs": [
    {
     "data": {
      "text/plain": [
       "tensor([0.5825, 0.8190, 0.7868], requires_grad=True)"
      ]
     },
     "execution_count": 31,
     "metadata": {},
     "output_type": "execute_result"
    }
   ],
   "source": [
    "xx"
   ]
  },
  {
   "cell_type": "code",
   "execution_count": 32,
   "id": "452f283f-37f1-4dd8-a213-1fdc379b0047",
   "metadata": {},
   "outputs": [
    {
     "data": {
      "text/plain": [
       "True"
      ]
     },
     "execution_count": 32,
     "metadata": {},
     "output_type": "execute_result"
    }
   ],
   "source": [
    "xx.requires_grad"
   ]
  },
  {
   "cell_type": "code",
   "execution_count": 33,
   "id": "05e0198c-29d8-4401-a6e4-2ec1c6511e53",
   "metadata": {},
   "outputs": [
    {
     "data": {
      "text/plain": [
       "True"
      ]
     },
     "execution_count": 33,
     "metadata": {},
     "output_type": "execute_result"
    }
   ],
   "source": [
    "(xx**2).requires_grad"
   ]
  },
  {
   "cell_type": "code",
   "execution_count": 34,
   "id": "8c52b36a-fdc5-4420-b774-ba94817a8fd0",
   "metadata": {},
   "outputs": [
    {
     "name": "stdout",
     "output_type": "stream",
     "text": [
      "False\n"
     ]
    }
   ],
   "source": [
    "with torch.no_grad():\n",
    "    print((xx**2).requires_grad)"
   ]
  },
  {
   "cell_type": "code",
   "execution_count": null,
   "id": "9a55992a-781c-4d33-98fa-7bdd975d78ce",
   "metadata": {},
   "outputs": [],
   "source": []
  }
 ],
 "metadata": {
  "kernelspec": {
   "display_name": "Python 3",
   "language": "python",
   "name": "python3"
  },
  "language_info": {
   "codemirror_mode": {
    "name": "ipython",
    "version": 3
   },
   "file_extension": ".py",
   "mimetype": "text/x-python",
   "name": "python",
   "nbconvert_exporter": "python",
   "pygments_lexer": "ipython3",
   "version": "3.8.8"
  }
 },
 "nbformat": 4,
 "nbformat_minor": 5
}
